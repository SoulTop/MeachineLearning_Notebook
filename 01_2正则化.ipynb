{
 "cells": [
  {
   "cell_type": "code",
   "execution_count": 1,
   "metadata": {},
   "outputs": [],
   "source": [
    "import numpy as np\n",
    "import matplotlib.pyplot as plt"
   ]
  },
  {
   "cell_type": "code",
   "execution_count": 2,
   "metadata": {},
   "outputs": [],
   "source": [
    "X=np.linspace(0,100,100)\n",
    "X=np.c_[X,np.ones(100)]\n",
    "w=np.asarray([4,3])\n",
    "Y=X.dot(w)\n",
    "X=X.astype('float')\n",
    "Y=Y.astype('float')\n",
    "Y_T = Y + np.random.normal(size=(Y.shape))*10    #添加噪声\n",
    "Y_T=Y_T.reshape(100,1)"
   ]
  },
  {
   "cell_type": "markdown",
   "metadata": {},
   "source": [
    "加入噪点："
   ]
  },
  {
   "cell_type": "code",
   "execution_count": 3,
   "metadata": {},
   "outputs": [
    {
     "data": {
      "image/png": "[encoded data removed]",
      "text/plain": [
       "<Figure size 432x288 with 1 Axes>"
      ]
     },
     "metadata": {
      "needs_background": "light"
     },
     "output_type": "display_data"
    }
   ],
   "source": [
    "X=np.concatenate([X,np.asanyarray([[100,1],[101,1],[102,1],[103,1],[104,1]])])\n",
    "\n",
    "Y_T=np.concatenate([Y_T,np.asanyarray([[3000],[3300],[3600],[3800],[3900]])])\n",
    "\n",
    "plt.scatter(X[:,0],Y_T, marker='x')            # 绘制点集\n",
    "plt.xlabel('X')\n",
    "plt.ylabel('Y')\n",
    "plt.show()"
   ]
  },
  {
   "cell_type": "markdown",
   "metadata": {},
   "source": [
    "## 使用闭式解直接线性回归"
   ]
  },
  {
   "cell_type": "code",
   "execution_count": 4,
   "metadata": {},
   "outputs": [
    {
     "name": "stdout",
     "output_type": "stream",
     "text": [
      "[[  11.92515127]\n",
      " [-263.36177855]]\n"
     ]
    },
    {
     "data": {
      "text/plain": [
       "Text(0, 0.5, 'Y')"
      ]
     },
     "execution_count": 4,
     "metadata": {},
     "output_type": "execute_result"
    },
    {
     "data": {
      "image/png": "[encoded data removed]",
      "text/plain": [
       "<Figure size 432x288 with 1 Axes>"
      ]
     },
     "metadata": {
      "needs_background": "light"
     },
     "output_type": "display_data"
    }
   ],
   "source": [
    "w = np.linalg.pinv(X).dot(Y_T)\n",
    "print(w)\n",
    "plt.scatter(X[:,0],Y_T, marker='x')\n",
    "plt.plot(X[:,0],X.dot(w),'r')\n",
    "plt.xlabel('X')\n",
    "plt.ylabel('Y')"
   ]
  },
  {
   "cell_type": "markdown",
   "metadata": {},
   "source": [
    "可以看出，当引入了噪点时对预测产生了很大的影响，此时直接进行线性回归，偏离值很远（这就是过拟合，被噪声干扰）。\n",
    "\n",
    "然而，噪声在实际情况中是很常见的。"
   ]
  },
  {
   "cell_type": "markdown",
   "metadata": {},
   "source": [
    "## 二、正则化\n",
    "\n",
    "我们通常通过对模型参数 **`添加正则化约束`**来避免这种情况——在loss函数中为权重 $w$ 添加 $L_1$ 或者 $L_2$ 约束，借用上一节的公式推导，直接推出loss部分：\n",
    "\n",
    "1.线性回归中添加$L_1$约束称为 `Lasso回归`，其损失函数如下：\n",
    "$$\n",
    "L(w)=\\sum_{i=1}^m(y_i-f(x_i))^2+\\lambda||w||_1 \n",
    "$$\n",
    "2.线性回归中添加$L_2$约束称为 `Ridge回归`，其损失函数如下：\n",
    "$$\n",
    "L(w)=\\sum_{i=1}^m(y_i-f(x_i))^2+\\lambda||w||^2_2\n",
    "$$3.如果不太确定用$L_1$好，还是$L_2$好，可以用它们的组合，称作`ElasticNet`，损失函数如下：\n",
    "$$\n",
    "L(w)=\\sum_{i=1}^m(y_i-f(x_i))^2+\\lambda||w||_1+\\alpha||w||_2\n",
    "$$\n",
    "可以发现通过调整超参，可以控制 $w$ 的大小，如果 $\\lambda$ 设置很大，$w$ 会被约束的很小，而如果 $\\alpha$ 或 $\\lambda$ 设置为0，等价于原始的不带正则项的线性回归；通常可以通过 **交叉验证**，根据验证集上的表现来设置一个合适的超参；接下来在上一节线性回归代码的基础上实现 `Lasso,Ridge,ElasticNet` 模型，另外设置两个参数 `L1_ratio` 以及 `L2_ratio`，分别用来控制 $L_1$ 和 $L_2$ 的loss部分的权重"
   ]
  },
  {
   "cell_type": "markdown",
   "metadata": {},
   "source": [
    "## 三、代码实现"
   ]
  },
  {
   "cell_type": "code",
   "execution_count": 5,
   "metadata": {},
   "outputs": [],
   "source": [
    "def sign(x):\n",
    "    \"\"\"\n",
    "    符号函数\n",
    "    :param x:\n",
    "    :return:\n",
    "    \"\"\"\n",
    "    if x > 0:\n",
    "        return 1\n",
    "    elif x < 0:\n",
    "        return -1\n",
    "    else:\n",
    "        return 0"
   ]
  },
  {
   "cell_type": "markdown",
   "metadata": {},
   "source": [
    "对于 `L2-ridge`：\n",
    "$$\n",
    "L(w)=\\sum_{i=1}^m(y_i-f(x_i))^2+\\lambda||w||^2_2\n",
    "$$\n",
    "\n",
    "因此：\n",
    "$$\n",
    "\\frac{dL(w)}{dw} = 2X^T(Xw-Y) + 2 \\lambda w\n",
    "$$"
   ]
  },
  {
   "cell_type": "code",
   "execution_count": 6,
   "metadata": {},
   "outputs": [],
   "source": [
    "class LinearRegression(object):\n",
    "    def __init__(self, fit_intercept=True, solver='sgd', if_standard=True, \n",
    "                 epochs=10, lr=1e-2, batch_size=1,\n",
    "                 l1_ratio=None, l2_ratio=None):\n",
    "        \"\"\"\n",
    "        :param fit_intercept: 是否训练bias\n",
    "        :param solver: 求解方法\n",
    "        :param if_standard: normalization\n",
    "        :param epochs:\n",
    "        :param lr: learnning rate\n",
    "        \"\"\"\n",
    "        self.w = None\n",
    "        self.fit_intercept = fit_intercept\n",
    "        self.solver = solver\n",
    "        self.if_standard = if_standard\n",
    "        if if_standard:\n",
    "            self.feature_mean = None\n",
    "            self.feature_std = None\n",
    "        self.epochs = epochs\n",
    "        self.lr = lr\n",
    "        self.batch_size = batch_size\n",
    "        self.l1_ratio = l1_ratio\n",
    "        self.l2_ratio = l2_ratio\n",
    "        # 注册sign函数\n",
    "        self.sign_func = np.vectorize(sign)\n",
    "    \n",
    "    def init_params(self, n_features):\n",
    "        \"\"\"\n",
    "        初始化参数，用于迭代法的初始状态\n",
    "        :return: w\n",
    "        \"\"\"\n",
    "        self.w = np.random.random(size=(n_features, 1))\n",
    "    \n",
    "    def _fit_closed_form_solution(self, x, y):\n",
    "        \"\"\"\n",
    "        直接求闭式解\n",
    "        :param x: 样本\n",
    "        :param y: \n",
    "        :return:\n",
    "        \"\"\"\n",
    "        if self.l1_ratio is None and self.l2_ratio is None:\n",
    "            self.w = np.linalg.pinv(x).dot(y)\n",
    "        elif self.l1_ratio is None and self.l2_ratio is not None:\n",
    "            self.w = np.linalg.inv(x.T.dot(x) + self.l2_ratio * np.eye(x.shape[1])).dot(x.T).dot(y)\n",
    "        else:\n",
    "            self._fit_sgd(x, y)\n",
    "    \n",
    "    def _fit_sgd(self, x, y):\n",
    "        \"\"\"\n",
    "        随机梯度下降求解\n",
    "        :param x:\n",
    "        :param y:\n",
    "        :param epochs:\n",
    "        :param eta:\n",
    "        :param batch_size:\n",
    "        :return:\n",
    "        \"\"\"\n",
    "        x_y = np.c_[x, y]\n",
    "        # 按batch_size更新w,b\n",
    "        for _ in range(self.epochs):\n",
    "            np.random.shuffle(x_y)\n",
    "            for index in range(x_y.shape[0] // self.batch_size):\n",
    "                # 按 bs 大小截取样本\n",
    "                batch_x_y = x_y[self.batch_size * index : self.batch_size * (index + 1)]\n",
    "                batch_x = batch_x_y[:, :-1] # 截取 倒数第二列 x\n",
    "                batch_y = batch_x_y[:, -1:] # 截取 倒数第一列 y\n",
    "                \n",
    "                dw =  -2 * batch_x.T.dot(batch_y - batch_x.dot(self.w)) / self.batch_size   # L对w求导\n",
    "                \n",
    "                # 添加l1和l2的部分\n",
    "                dw_reg = np.zeros(shape=(x.shape[1] - 1, 1))\n",
    "                \n",
    "                if self.l1_ratio is not None:\n",
    "                    dw_reg += self.l1_ratio * self.sign_func(self.w[:-1]) / self.batch_size\n",
    "                if self.l2_ratio is not None:\n",
    "                    dw_reg += 2 * self.l2_ratio * self.w[:-1] / self.batch_size\n",
    "                dw_reg = np.concatenate([dw_reg, np.asarray([[0]])], axis=0)\n",
    "                dw += dw_reg\n",
    "                self.w = self.w - self.lr * dw\n",
    "                \n",
    "                self.w = self.w - self.lr * dw\n",
    "        \n",
    "    def fit(self, x, y):\n",
    "        # 是否归一化feature\n",
    "        if self.if_standard:\n",
    "            self.feature_mean = np.mean(x, axis=0)\n",
    "            self.feature_std = np.std(x, axis=0) + 1e-8\n",
    "            x = (x - self.feature_mean) / self.feature_std\n",
    "        # 是否训练bias\n",
    "        if self.fit_intercept:\n",
    "            x = np.c_[x, np.ones_like(y)]\n",
    "        # 初始化参数\n",
    "        self.init_params(x.shape[1])\n",
    "        # 训练模型\n",
    "        if self.solver == 'closed_form':\n",
    "            self._fit_closed_form_solution(x, y)\n",
    "        elif self.solver == 'sgd':\n",
    "            self._fit_sgd(x, y)\n",
    "\n",
    "    def get_params(self):\n",
    "        \"\"\"\n",
    "        输出原始的系数\n",
    "        :return: w,b\n",
    "        \"\"\"\n",
    "        if self.fit_intercept:\n",
    "            w = self.w[:-1]\n",
    "            b = self.w[-1]\n",
    "        else:\n",
    "            w = self.w\n",
    "            b = 0\n",
    "        if self.if_standard:\n",
    "            w = w / self.feature_std.reshape(-1, 1)\n",
    "            b = b - w.T.dot(self.feature_mean.reshape(-1, 1))\n",
    "        return w.reshape(-1), b\n",
    "\n",
    "    def predict(self, x):\n",
    "        \"\"\"\n",
    "        :param x:ndarray格式数据: m x n\n",
    "        :return: m x 1\n",
    "        \"\"\"\n",
    "        if self.if_standard:\n",
    "            x = (x - self.feature_mean) / self.feature_std\n",
    "        if self.fit_intercept:\n",
    "            x = np.c_[x, np.ones(shape=x.shape[0])]\n",
    "        return x.dot(self.w)\n",
    "\n",
    "    def plot_fit_boundary(self, x, y):\n",
    "        \"\"\"\n",
    "        绘制拟合结果\n",
    "        :param x:\n",
    "        :param y:\n",
    "        :return:\n",
    "        \"\"\"\n",
    "        plt.scatter(x[:, 0], y)\n",
    "        plt.plot(x[:, 0], self.predict(x), 'r')     "
   ]
  },
  {
   "cell_type": "markdown",
   "metadata": {},
   "source": [
    "### Lasso"
   ]
  },
  {
   "cell_type": "code",
   "execution_count": 7,
   "metadata": {},
   "outputs": [
    {
     "data": {
      "image/png": "[encoded data removed]",
      "text/plain": [
       "<Figure size 432x288 with 1 Axes>"
      ]
     },
     "metadata": {
      "needs_background": "light"
     },
     "output_type": "display_data"
    }
   ],
   "source": [
    "lasso=LinearRegression(l1_ratio=100)\n",
    "lasso.fit(X[:,:-1],Y_T)\n",
    "lasso.plot_fit_boundary(X[:,:-1],Y_T)"
   ]
  },
  {
   "cell_type": "markdown",
   "metadata": {},
   "source": [
    "### Ridge"
   ]
  },
  {
   "cell_type": "code",
   "execution_count": 8,
   "metadata": {},
   "outputs": [
    {
     "data": {
      "image/png": "[encoded data removed]",
      "text/plain": [
       "<Figure size 432x288 with 1 Axes>"
      ]
     },
     "metadata": {
      "needs_background": "light"
     },
     "output_type": "display_data"
    }
   ],
   "source": [
    "ridge=LinearRegression(l2_ratio=10)\n",
    "ridge.fit(X[:,:-1],Y_T)\n",
    "ridge.plot_fit_boundary(X[:,:-1],Y_T)"
   ]
  },
  {
   "cell_type": "markdown",
   "metadata": {},
   "source": [
    "### ElasticNet"
   ]
  },
  {
   "cell_type": "code",
   "execution_count": 9,
   "metadata": {},
   "outputs": [
    {
     "data": {
      "image/png": "[encoded data removed]",
      "text/plain": [
       "<Figure size 432x288 with 1 Axes>"
      ]
     },
     "metadata": {
      "needs_background": "light"
     },
     "output_type": "display_data"
    }
   ],
   "source": [
    "elastic=LinearRegression(l1_ratio=100,l2_ratio=10)\n",
    "elastic.fit(X[:,:-1],Y_T)\n",
    "elastic.plot_fit_boundary(X[:,:-1],Y_T)"
   ]
  },
  {
   "cell_type": "code",
   "execution_count": null,
   "metadata": {},
   "outputs": [],
   "source": []
  }
 ],
 "metadata": {
  "kernelspec": {
   "display_name": "Python 3",
   "language": "python",
   "name": "python3"
  },
  "language_info": {
   "codemirror_mode": {
    "name": "ipython",
    "version": 3
   },
   "file_extension": ".py",
   "mimetype": "text/x-python",
   "name": "python",
   "nbconvert_exporter": "python",
   "pygments_lexer": "ipython3",
   "version": "3.7.4"
  }
 },
 "nbformat": 4,
 "nbformat_minor": 4
}
