{
 "cells": [
  {
   "cell_type": "markdown",
   "metadata": {},
   "source": [
    "# 基于 GINI 系数的CART方法"
   ]
  },
  {
   "cell_type": "code",
   "execution_count": 1,
   "metadata": {},
   "outputs": [],
   "source": [
    "from sklearn.feature_extraction import DictVectorizer\n",
    "from sklearn import tree\n",
    "from sklearn import preprocessing\n",
    "import csv"
   ]
  },
  {
   "cell_type": "markdown",
   "metadata": {},
   "source": [
    "***载入数据***"
   ]
  },
  {
   "cell_type": "code",
   "execution_count": 2,
   "metadata": {},
   "outputs": [],
   "source": [
    "data = open(r'./cart.csv', 'r')\n",
    "reader = csv.reader(data)"
   ]
  },
  {
   "cell_type": "code",
   "execution_count": 3,
   "metadata": {
    "scrolled": true
   },
   "outputs": [
    {
     "name": "stdout",
     "output_type": "stream",
     "text": [
      "headers: \n",
      " ['序号', '是否有房', '婚姻状况', '年收入', '是否拖欠贷款']\n",
      "[{'是否有房': 'yes', '婚姻状况': 'single', '年收入': '125'}, {'是否有房': 'no', '婚姻状况': 'married', '年收入': '100'}, {'是否有房': 'no', '婚姻状况': 'single', '年收入': '70'}, {'是否有房': 'yes', '婚姻状况': 'married', '年收入': '120'}, {'是否有房': 'no', '婚姻状况': 'divorced', '年收入': '95'}, {'是否有房': 'no', '婚姻状况': 'married', '年收入': '60'}, {'是否有房': 'yes', '婚姻状况': 'divorced', '年收入': '220'}, {'是否有房': 'no', '婚姻状况': 'single', '年收入': '85'}, {'是否有房': 'no', '婚姻状况': 'married', '年收入': '75'}, {'是否有房': 'no', '婚姻状况': 'single', '年收入': '90'}]\n"
     ]
    }
   ],
   "source": [
    "# 获取第一行数据\n",
    "headers = reader.__next__()\n",
    "print(\"headers: \\n\", headers)\n",
    "\n",
    "featureList = []  # 存入每个人的信息\n",
    "labelList = []    # 存入标签\n",
    "for row in reader:\n",
    "    # 把 label 存入 list\n",
    "    labelList.append(row[-1])\n",
    "    rowDict = {}\n",
    "    for i in range(1, len(row)-1): # 第 0 行是表头，所以跳过\n",
    "        # 建立一个数据字典\n",
    "        rowDict[headers[i]] = row[i]\n",
    "    featureList.append(rowDict)\n",
    "\n",
    "print(featureList)"
   ]
  },
  {
   "cell_type": "markdown",
   "metadata": {},
   "source": [
    "***标签转换***"
   ]
  },
  {
   "cell_type": "code",
   "execution_count": 4,
   "metadata": {},
   "outputs": [
    {
     "name": "stdout",
     "output_type": "stream",
     "text": [
      "x_data: \n",
      "[[0. 0. 1. 0. 0. 1. 0. 0. 0. 0. 0. 0. 0. 0. 1.]\n",
      " [0. 1. 0. 1. 0. 0. 0. 0. 0. 0. 0. 0. 0. 1. 0.]\n",
      " [0. 0. 1. 0. 0. 0. 0. 0. 1. 0. 0. 0. 0. 1. 0.]\n",
      " [0. 1. 0. 0. 1. 0. 0. 0. 0. 0. 0. 0. 0. 0. 1.]\n",
      " [1. 0. 0. 0. 0. 0. 0. 0. 0. 0. 0. 0. 1. 1. 0.]\n",
      " [0. 1. 0. 0. 0. 0. 0. 1. 0. 0. 0. 0. 0. 1. 0.]\n",
      " [1. 0. 0. 0. 0. 0. 1. 0. 0. 0. 0. 0. 0. 0. 1.]\n",
      " [0. 0. 1. 0. 0. 0. 0. 0. 0. 0. 1. 0. 0. 1. 0.]\n",
      " [0. 1. 0. 0. 0. 0. 0. 0. 0. 1. 0. 0. 0. 1. 0.]\n",
      " [0. 0. 1. 0. 0. 0. 0. 0. 0. 0. 0. 1. 0. 1. 0.]]\n"
     ]
    }
   ],
   "source": [
    "vectool = DictVectorizer()\n",
    "x_data = vectool.fit_transform(featureList).toarray()\n",
    "print(\"x_data: \\n\" + str(x_data))"
   ]
  },
  {
   "cell_type": "code",
   "execution_count": 5,
   "metadata": {},
   "outputs": [
    {
     "name": "stdout",
     "output_type": "stream",
     "text": [
      "y_data: \n",
      " [[0]\n",
      " [0]\n",
      " [0]\n",
      " [0]\n",
      " [1]\n",
      " [0]\n",
      " [0]\n",
      " [1]\n",
      " [0]\n",
      " [1]]\n"
     ]
    }
   ],
   "source": [
    "lb = preprocessing.LabelBinarizer()\n",
    "y_data = lb.fit_transform(labelList)\n",
    "print(\"y_data: \\n\", y_data)"
   ]
  },
  {
   "cell_type": "markdown",
   "metadata": {},
   "source": [
    "***创建决策树模型，并训练***"
   ]
  },
  {
   "cell_type": "code",
   "execution_count": 6,
   "metadata": {},
   "outputs": [
    {
     "data": {
      "text/plain": [
       "DecisionTreeClassifier()"
      ]
     },
     "execution_count": 6,
     "metadata": {},
     "output_type": "execute_result"
    }
   ],
   "source": [
    "# 创立决策树\n",
    "model = tree.DecisionTreeClassifier()\n",
    "\n",
    "#输入数据建立模型\n",
    "model.fit(x_data, y_data)"
   ]
  },
  {
   "cell_type": "markdown",
   "metadata": {},
   "source": [
    "***测试***"
   ]
  },
  {
   "cell_type": "code",
   "execution_count": 7,
   "metadata": {},
   "outputs": [
    {
     "name": "stdout",
     "output_type": "stream",
     "text": [
      "X_test:  [0. 0. 1. 0. 0. 1. 0. 0. 0. 0. 0. 0. 0. 0. 1.] , x_test_label =  [0]\n",
      "predict:  [0]\n"
     ]
    }
   ],
   "source": [
    "x_test = x_data[0]\n",
    "print(\"X_test: \", x_test, \", x_test_label = \", y_data[0])\n",
    "\n",
    "predict = model.predict(x_test.reshape(1, -1))\n",
    "print('predict: ', predict)"
   ]
  },
  {
   "cell_type": "markdown",
   "metadata": {},
   "source": [
    "***导出决策树***"
   ]
  },
  {
   "cell_type": "code",
   "execution_count": 8,
   "metadata": {},
   "outputs": [
    {
     "data": {
      "image/svg+xml": [
       "<?xml version=\"1.0\" encoding=\"UTF-8\" standalone=\"no\"?>\r\n",
       "<!DOCTYPE svg PUBLIC \"-//W3C//DTD SVG 1.1//EN\"\r\n",
       " \"http://www.w3.org/Graphics/SVG/1.1/DTD/svg11.dtd\">\r\n",
       "<!-- Generated by graphviz version 2.38.0 (20140413.2041)\r\n",
       " -->\r\n",
       "<!-- Title: Tree Pages: 1 -->\r\n",
       "<svg width=\"297pt\" height=\"433pt\"\r\n",
       " viewBox=\"0.00 0.00 297.00 433.00\" xmlns=\"http://www.w3.org/2000/svg\" xmlns:xlink=\"http://www.w3.org/1999/xlink\">\r\n",
       "<g id=\"graph0\" class=\"graph\" transform=\"scale(1 1) rotate(0) translate(4 429)\">\r\n",
       "<title>Tree</title>\r\n",
       "<polygon fill=\"white\" stroke=\"none\" points=\"-4,4 -4,-429 293,-429 293,4 -4,4\"/>\r\n",
       "<!-- 0 -->\r\n",
       "<g id=\"node1\" class=\"node\"><title>0</title>\r\n",
       "<path fill=\"#f0b78e\" stroke=\"black\" d=\"M243,-425C243,-425 108,-425 108,-425 102,-425 96,-419 96,-413 96,-413 96,-354 96,-354 96,-348 102,-342 108,-342 108,-342 243,-342 243,-342 249,-342 255,-348 255,-354 255,-354 255,-413 255,-413 255,-419 249,-425 243,-425\"/>\r\n",
       "<text text-anchor=\"start\" x=\"104\" y=\"-409.8\" font-family=\"Helvetica,sans-Serif\" font-size=\"14.00\">婚姻状况=married ≤ 0.5</text>\r\n",
       "<text text-anchor=\"start\" x=\"142\" y=\"-394.8\" font-family=\"Helvetica,sans-Serif\" font-size=\"14.00\">gini = 0.42</text>\r\n",
       "<text text-anchor=\"start\" x=\"132\" y=\"-379.8\" font-family=\"Helvetica,sans-Serif\" font-size=\"14.00\">samples = 10</text>\r\n",
       "<text text-anchor=\"start\" x=\"135\" y=\"-364.8\" font-family=\"Helvetica,sans-Serif\" font-size=\"14.00\">value = [7, 3]</text>\r\n",
       "<text text-anchor=\"start\" x=\"143\" y=\"-349.8\" font-family=\"Helvetica,sans-Serif\" font-size=\"14.00\">class = no</text>\r\n",
       "</g>\r\n",
       "<!-- 1 -->\r\n",
       "<g id=\"node2\" class=\"node\"><title>1</title>\r\n",
       "<path fill=\"#ffffff\" stroke=\"black\" d=\"M162,-306C162,-306 59,-306 59,-306 53,-306 47,-300 47,-294 47,-294 47,-235 47,-235 47,-229 53,-223 59,-223 59,-223 162,-223 162,-223 168,-223 174,-229 174,-235 174,-235 174,-294 174,-294 174,-300 168,-306 162,-306\"/>\r\n",
       "<text text-anchor=\"start\" x=\"55\" y=\"-290.8\" font-family=\"Helvetica,sans-Serif\" font-size=\"14.00\">是否有房=no ≤ 0.5</text>\r\n",
       "<text text-anchor=\"start\" x=\"81.5\" y=\"-275.8\" font-family=\"Helvetica,sans-Serif\" font-size=\"14.00\">gini = 0.5</text>\r\n",
       "<text text-anchor=\"start\" x=\"71\" y=\"-260.8\" font-family=\"Helvetica,sans-Serif\" font-size=\"14.00\">samples = 6</text>\r\n",
       "<text text-anchor=\"start\" x=\"70\" y=\"-245.8\" font-family=\"Helvetica,sans-Serif\" font-size=\"14.00\">value = [3, 3]</text>\r\n",
       "<text text-anchor=\"start\" x=\"78\" y=\"-230.8\" font-family=\"Helvetica,sans-Serif\" font-size=\"14.00\">class = no</text>\r\n",
       "</g>\r\n",
       "<!-- 0&#45;&gt;1 -->\r\n",
       "<g id=\"edge1\" class=\"edge\"><title>0&#45;&gt;1</title>\r\n",
       "<path fill=\"none\" stroke=\"black\" d=\"M152.949,-341.907C148.109,-333.195 142.943,-323.897 137.941,-314.893\"/>\r\n",
       "<polygon fill=\"black\" stroke=\"black\" points=\"140.928,-313.063 133.012,-306.021 134.808,-316.462 140.928,-313.063\"/>\r\n",
       "<text text-anchor=\"middle\" x=\"126.144\" y=\"-326.359\" font-family=\"Helvetica,sans-Serif\" font-size=\"14.00\">True</text>\r\n",
       "</g>\r\n",
       "<!-- 6 -->\r\n",
       "<g id=\"node7\" class=\"node\"><title>6</title>\r\n",
       "<path fill=\"#e58139\" stroke=\"black\" d=\"M277,-298.5C277,-298.5 204,-298.5 204,-298.5 198,-298.5 192,-292.5 192,-286.5 192,-286.5 192,-242.5 192,-242.5 192,-236.5 198,-230.5 204,-230.5 204,-230.5 277,-230.5 277,-230.5 283,-230.5 289,-236.5 289,-242.5 289,-242.5 289,-286.5 289,-286.5 289,-292.5 283,-298.5 277,-298.5\"/>\r\n",
       "<text text-anchor=\"start\" x=\"211.5\" y=\"-283.3\" font-family=\"Helvetica,sans-Serif\" font-size=\"14.00\">gini = 0.0</text>\r\n",
       "<text text-anchor=\"start\" x=\"201\" y=\"-268.3\" font-family=\"Helvetica,sans-Serif\" font-size=\"14.00\">samples = 4</text>\r\n",
       "<text text-anchor=\"start\" x=\"200\" y=\"-253.3\" font-family=\"Helvetica,sans-Serif\" font-size=\"14.00\">value = [4, 0]</text>\r\n",
       "<text text-anchor=\"start\" x=\"208\" y=\"-238.3\" font-family=\"Helvetica,sans-Serif\" font-size=\"14.00\">class = no</text>\r\n",
       "</g>\r\n",
       "<!-- 0&#45;&gt;6 -->\r\n",
       "<g id=\"edge6\" class=\"edge\"><title>0&#45;&gt;6</title>\r\n",
       "<path fill=\"none\" stroke=\"black\" d=\"M198.051,-341.907C204.243,-330.763 210.968,-318.658 217.2,-307.439\"/>\r\n",
       "<polygon fill=\"black\" stroke=\"black\" points=\"220.277,-309.108 222.074,-298.667 214.158,-305.709 220.277,-309.108\"/>\r\n",
       "<text text-anchor=\"middle\" x=\"228.942\" y=\"-319.005\" font-family=\"Helvetica,sans-Serif\" font-size=\"14.00\">False</text>\r\n",
       "</g>\r\n",
       "<!-- 2 -->\r\n",
       "<g id=\"node3\" class=\"node\"><title>2</title>\r\n",
       "<path fill=\"#e58139\" stroke=\"black\" d=\"M85,-179.5C85,-179.5 12,-179.5 12,-179.5 6,-179.5 0,-173.5 0,-167.5 0,-167.5 0,-123.5 0,-123.5 0,-117.5 6,-111.5 12,-111.5 12,-111.5 85,-111.5 85,-111.5 91,-111.5 97,-117.5 97,-123.5 97,-123.5 97,-167.5 97,-167.5 97,-173.5 91,-179.5 85,-179.5\"/>\r\n",
       "<text text-anchor=\"start\" x=\"19.5\" y=\"-164.3\" font-family=\"Helvetica,sans-Serif\" font-size=\"14.00\">gini = 0.0</text>\r\n",
       "<text text-anchor=\"start\" x=\"9\" y=\"-149.3\" font-family=\"Helvetica,sans-Serif\" font-size=\"14.00\">samples = 2</text>\r\n",
       "<text text-anchor=\"start\" x=\"8\" y=\"-134.3\" font-family=\"Helvetica,sans-Serif\" font-size=\"14.00\">value = [2, 0]</text>\r\n",
       "<text text-anchor=\"start\" x=\"16\" y=\"-119.3\" font-family=\"Helvetica,sans-Serif\" font-size=\"14.00\">class = no</text>\r\n",
       "</g>\r\n",
       "<!-- 1&#45;&gt;2 -->\r\n",
       "<g id=\"edge2\" class=\"edge\"><title>1&#45;&gt;2</title>\r\n",
       "<path fill=\"none\" stroke=\"black\" d=\"M88.9894,-222.907C83.1421,-211.873 76.7962,-199.898 70.9009,-188.773\"/>\r\n",
       "<polygon fill=\"black\" stroke=\"black\" points=\"73.8507,-186.864 66.0756,-179.667 67.6654,-190.142 73.8507,-186.864\"/>\r\n",
       "</g>\r\n",
       "<!-- 3 -->\r\n",
       "<g id=\"node4\" class=\"node\"><title>3</title>\r\n",
       "<path fill=\"#7bbeee\" stroke=\"black\" d=\"M218,-187C218,-187 127,-187 127,-187 121,-187 115,-181 115,-175 115,-175 115,-116 115,-116 115,-110 121,-104 127,-104 127,-104 218,-104 218,-104 224,-104 230,-110 230,-116 230,-116 230,-175 230,-175 230,-181 224,-187 218,-187\"/>\r\n",
       "<text text-anchor=\"start\" x=\"123\" y=\"-171.8\" font-family=\"Helvetica,sans-Serif\" font-size=\"14.00\">年收入=70 ≤ 0.5</text>\r\n",
       "<text text-anchor=\"start\" x=\"135\" y=\"-156.8\" font-family=\"Helvetica,sans-Serif\" font-size=\"14.00\">gini = 0.375</text>\r\n",
       "<text text-anchor=\"start\" x=\"133\" y=\"-141.8\" font-family=\"Helvetica,sans-Serif\" font-size=\"14.00\">samples = 4</text>\r\n",
       "<text text-anchor=\"start\" x=\"132\" y=\"-126.8\" font-family=\"Helvetica,sans-Serif\" font-size=\"14.00\">value = [1, 3]</text>\r\n",
       "<text text-anchor=\"start\" x=\"136.5\" y=\"-111.8\" font-family=\"Helvetica,sans-Serif\" font-size=\"14.00\">class = yes</text>\r\n",
       "</g>\r\n",
       "<!-- 1&#45;&gt;3 -->\r\n",
       "<g id=\"edge3\" class=\"edge\"><title>1&#45;&gt;3</title>\r\n",
       "<path fill=\"none\" stroke=\"black\" d=\"M132.011,-222.907C136.627,-214.195 141.555,-204.897 146.326,-195.893\"/>\r\n",
       "<polygon fill=\"black\" stroke=\"black\" points=\"149.438,-197.496 151.027,-187.021 143.252,-194.218 149.438,-197.496\"/>\r\n",
       "</g>\r\n",
       "<!-- 4 -->\r\n",
       "<g id=\"node5\" class=\"node\"><title>4</title>\r\n",
       "<path fill=\"#399de5\" stroke=\"black\" d=\"M151,-68C151,-68 78,-68 78,-68 72,-68 66,-62 66,-56 66,-56 66,-12 66,-12 66,-6 72,-0 78,-0 78,-0 151,-0 151,-0 157,-0 163,-6 163,-12 163,-12 163,-56 163,-56 163,-62 157,-68 151,-68\"/>\r\n",
       "<text text-anchor=\"start\" x=\"85.5\" y=\"-52.8\" font-family=\"Helvetica,sans-Serif\" font-size=\"14.00\">gini = 0.0</text>\r\n",
       "<text text-anchor=\"start\" x=\"75\" y=\"-37.8\" font-family=\"Helvetica,sans-Serif\" font-size=\"14.00\">samples = 3</text>\r\n",
       "<text text-anchor=\"start\" x=\"74\" y=\"-22.8\" font-family=\"Helvetica,sans-Serif\" font-size=\"14.00\">value = [0, 3]</text>\r\n",
       "<text text-anchor=\"start\" x=\"78.5\" y=\"-7.8\" font-family=\"Helvetica,sans-Serif\" font-size=\"14.00\">class = yes</text>\r\n",
       "</g>\r\n",
       "<!-- 3&#45;&gt;4 -->\r\n",
       "<g id=\"edge4\" class=\"edge\"><title>3&#45;&gt;4</title>\r\n",
       "<path fill=\"none\" stroke=\"black\" d=\"M150.903,-103.726C146.313,-95.0615 141.459,-85.8962 136.842,-77.1802\"/>\r\n",
       "<polygon fill=\"black\" stroke=\"black\" points=\"139.912,-75.4982 132.138,-68.2996 133.726,-78.7748 139.912,-75.4982\"/>\r\n",
       "</g>\r\n",
       "<!-- 5 -->\r\n",
       "<g id=\"node6\" class=\"node\"><title>5</title>\r\n",
       "<path fill=\"#e58139\" stroke=\"black\" d=\"M266,-68C266,-68 193,-68 193,-68 187,-68 181,-62 181,-56 181,-56 181,-12 181,-12 181,-6 187,-0 193,-0 193,-0 266,-0 266,-0 272,-0 278,-6 278,-12 278,-12 278,-56 278,-56 278,-62 272,-68 266,-68\"/>\r\n",
       "<text text-anchor=\"start\" x=\"200.5\" y=\"-52.8\" font-family=\"Helvetica,sans-Serif\" font-size=\"14.00\">gini = 0.0</text>\r\n",
       "<text text-anchor=\"start\" x=\"190\" y=\"-37.8\" font-family=\"Helvetica,sans-Serif\" font-size=\"14.00\">samples = 1</text>\r\n",
       "<text text-anchor=\"start\" x=\"189\" y=\"-22.8\" font-family=\"Helvetica,sans-Serif\" font-size=\"14.00\">value = [1, 0]</text>\r\n",
       "<text text-anchor=\"start\" x=\"197\" y=\"-7.8\" font-family=\"Helvetica,sans-Serif\" font-size=\"14.00\">class = no</text>\r\n",
       "</g>\r\n",
       "<!-- 3&#45;&gt;5 -->\r\n",
       "<g id=\"edge5\" class=\"edge\"><title>3&#45;&gt;5</title>\r\n",
       "<path fill=\"none\" stroke=\"black\" d=\"M193.725,-103.726C198.235,-95.0615 203.006,-85.8962 207.543,-77.1802\"/>\r\n",
       "<polygon fill=\"black\" stroke=\"black\" points=\"210.653,-78.7859 212.166,-68.2996 204.444,-75.5537 210.653,-78.7859\"/>\r\n",
       "</g>\r\n",
       "</g>\r\n",
       "</svg>\r\n"
      ],
      "text/plain": [
       "<graphviz.files.Source at 0x21d53a8b518>"
      ]
     },
     "execution_count": 8,
     "metadata": {},
     "output_type": "execute_result"
    }
   ],
   "source": [
    "import graphviz\n",
    "\n",
    "dot_data = tree.export_graphviz(model,\n",
    "                               out_file=None,\n",
    "                               feature_names=vectool.get_feature_names(),  # 特征名字\n",
    "                               class_names=lb.classes_,         # 标签\n",
    "                               filled=True,\n",
    "                               rounded=True,\n",
    "                               special_characters=True)\n",
    "\n",
    "graph = graphviz.Source(dot_data)\n",
    "graph"
   ]
  },
  {
   "cell_type": "markdown",
   "metadata": {},
   "source": [
    "***对上图的解释：***\n",
    "\n",
    "1. 结婚？ 结婚则 `married=1`， $1 \\ge 0.5$，所以进入 `False` 节点，直接输出 `class = no`（Flase节点，sample = 4，表示有4个用例进入到该节点）；反之进入True节点；\n",
    "2. 有房子？ 有则 `no=0`，$0 \\le 0.5$，所以进入 `True` 节点，直接输出 `class = no`，反之进入 `True` 节点；\n",
    "3. 年收入？ 是70W 则输出 `yes`，否则输出 `no`；\n",
    "\n",
    "> 从第三个年收入的节点，我们可以看出，其针对 `70w` 做出了特判。因此有些过拟合的嫌疑。\n"
   ]
  },
  {
   "cell_type": "markdown",
   "metadata": {},
   "source": [
    "***测试***"
   ]
  },
  {
   "cell_type": "code",
   "execution_count": 9,
   "metadata": {},
   "outputs": [
    {
     "name": "stdout",
     "output_type": "stream",
     "text": [
      "X_test:  [0. 0. 1. 0. 0. 1. 0. 0. 0. 0. 0. 0. 0. 0. 1.] , x_test_label =  [0]\n",
      "predict:  [0]\n",
      "X_test:  [0. 1. 0. 1. 0. 0. 0. 0. 0. 0. 0. 0. 0. 1. 0.] , x_test_label =  [0]\n",
      "predict:  [0]\n",
      "X_test:  [0. 0. 1. 0. 0. 0. 0. 0. 1. 0. 0. 0. 0. 1. 0.] , x_test_label =  [0]\n",
      "predict:  [0]\n",
      "X_test:  [0. 1. 0. 0. 1. 0. 0. 0. 0. 0. 0. 0. 0. 0. 1.] , x_test_label =  [0]\n",
      "predict:  [0]\n",
      "X_test:  [1. 0. 0. 0. 0. 0. 0. 0. 0. 0. 0. 0. 1. 1. 0.] , x_test_label =  [1]\n",
      "predict:  [1]\n",
      "X_test:  [0. 1. 0. 0. 0. 0. 0. 1. 0. 0. 0. 0. 0. 1. 0.] , x_test_label =  [0]\n",
      "predict:  [0]\n",
      "X_test:  [1. 0. 0. 0. 0. 0. 1. 0. 0. 0. 0. 0. 0. 0. 1.] , x_test_label =  [0]\n",
      "predict:  [0]\n",
      "X_test:  [0. 0. 1. 0. 0. 0. 0. 0. 0. 0. 1. 0. 0. 1. 0.] , x_test_label =  [1]\n",
      "predict:  [1]\n",
      "X_test:  [0. 1. 0. 0. 0. 0. 0. 0. 0. 1. 0. 0. 0. 1. 0.] , x_test_label =  [0]\n",
      "predict:  [0]\n"
     ]
    }
   ],
   "source": [
    "for idx in range(0, 9):\n",
    "    x_test = x_data[idx]\n",
    "    print(\"X_test: \", x_test, \", x_test_label = \", y_data[idx])\n",
    "\n",
    "    predict = model.predict(x_test.reshape(1, -1))\n",
    "    print('predict: ', predict)"
   ]
  },
  {
   "cell_type": "code",
   "execution_count": null,
   "metadata": {},
   "outputs": [],
   "source": []
  }
 ],
 "metadata": {
  "kernelspec": {
   "display_name": "Python 3",
   "language": "python",
   "name": "python3"
  },
  "language_info": {
   "codemirror_mode": {
    "name": "ipython",
    "version": 3
   },
   "file_extension": ".py",
   "mimetype": "text/x-python",
   "name": "python",
   "nbconvert_exporter": "python",
   "pygments_lexer": "ipython3",
   "version": "3.7.2"
  }
 },
 "nbformat": 4,
 "nbformat_minor": 4
}
