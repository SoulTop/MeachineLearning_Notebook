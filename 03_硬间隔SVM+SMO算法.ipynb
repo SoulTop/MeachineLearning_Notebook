{
 "cells": [
  {
   "cell_type": "markdown",
   "metadata": {},
   "source": [
    "# SVM\n",
    "\n",
    "支持向量机 SVM 与 上一节的线性感知机类似——找一个超平面来区分正负样本，但是SVM与感知机的区别是：他要求正负样本中离超平面最近的点的几何间隔尽可能的大（max-最小几何间隔）。\n",
    "\n",
    "其用拉格朗日法最终得到:\n",
    "\n",
    "$$\n",
    "L(w,b,\\alpha) = \\frac{1}{2}||w||^2 - \\sum_{i=1}^N \\alpha_i[y_i(wx_i+b)-1]\n",
    "$$\n",
    "\n",
    "默认满足 KKT 条件，可以将问题转化为其强对偶式：\n",
    "\n",
    "$$\n",
    "max_{\\alpha}min_{w,b} L(w,b,\\alpha)\n",
    "$$\n",
    "\n",
    "先求解 $min_{w,b} L(w,b,\\alpha)$，对 $w, b$ 求导并令等于0，即得到极值点。\n",
    "\n",
    "---\n",
    "\n",
    "显然，等价于如下优化问题（设为$Q^*$）：\n",
    "\n",
    "$$\n",
    "\\min_{\\alpha} \\frac{1}{2}\\sum_{i=1}^N\\sum_{j=1}^N\\alpha_i\\alpha_jy_iy_jx_i^Tx_j-\\sum_{i=1}^N\\alpha_i\\\\\n",
    "s.t.\\sum_{i=1}^N\\alpha_iy_i=0,\\\\\n",
    "\\alpha_i\\geq0,i=1,2,...,N\n",
    "$$"
   ]
  },
  {
   "cell_type": "markdown",
   "metadata": {},
   "source": [
    "## SMO 求解对偶问题的最优解"
   ]
  },
  {
   "cell_type": "markdown",
   "metadata": {},
   "source": [
    "序列最小化最优化算法(sequential minimal optimization,SMO) 是求解SVM对偶问题的一种启发式算法，它的思路是：\n",
    "每次只选择一个变量优化，而固定住其他变量，比如选择 $\\alpha_1$ 进行优化，而固定住 $\\alpha_i,i=2,3,...,N$，但由于我们的问题中有一个约束：$\\sum_i^N\\alpha_iy_i=0$，需要另外选择一个$\\alpha_2$来配合$\\alpha_1$做改变，当两者中任何一个变量确定后，另外一个也就随之确定了，比如确定$\\alpha_2$后：\n",
    "$$\n",
    "\\alpha_1=-y_1\\sum_{i=2}^N\\alpha_iy_i \\tag{1}\n",
    "$$\n",
    "所以在每个子问题中将同时更新两个变量。\n",
    "\n",
    "### 选择两个变量后，如果优化？\n",
    "\n",
    "不失一般性的选择两个变量 $\\alpha_1, \\alpha_2$，其他变量 $\\alpha_i$ 都视作常量（在$Q^*$中可以忽略）。于是 SMO 的最优化问题的子问题可以写为:\n",
    "\n",
    "$$\n",
    "\\begin{align}\n",
    "\\min_{\\alpha_1,\\alpha_2} W(\\alpha_1, \\alpha_2)&=\\frac{1}{2}K_{11}\\alpha_1^2+\\frac{1}{2}K_{22}\\alpha_2^2 + y_1y_2K_{12}\\alpha_1\\alpha_2 - (\\alpha_1+\\alpha_2) \\\\\n",
    "&+y_1\\alpha_1\\sum_{i=3}^Ny_i\\alpha_ix_iK_{i1} + y_2\\alpha_2 \\sum_{i=3}^Ny_i\\alpha_iK_{i2}  + c\n",
    "\\end{align}\n",
    "$$\n",
    "\n",
    "$\n",
    "\\begin{align}\n",
    "&s.t.\\alpha_1y_1+\\alpha_2y_2 = -\\sum_{i=3}^N\\alpha_iy_i=\\zeta\\\\\n",
    "&0 \\le \\alpha_i \\le C, i = 1, 2\n",
    "\\end{align}\n",
    "$\n",
    "\n",
    "&emsp;&emsp;其中 $c$ 是与 $\\alpha_1, \\alpha_2$无关的部分，在本次优化中当作常数项处理。由 SVM 优化目标函数的约束条件\n",
    "\n",
    "将 $(1)$ 式带入到上式中，消掉 $\\alpha_1$后就可以发现，优化的目标函数是关于 $\\alpha_2$ 的二次函数（且开口朝上）：\n",
    "\n",
    "$$\n",
    "\\min_{\\alpha_2}\\frac{1}{2}(x_1-x_2)^T(x_1-x_2)\\alpha_2^2+(-y_2\\eta x_1^Tx_1+y_1\\eta x_1^Tx_2+\\frac{1}{2}y_2x_2^T\\gamma-\\frac{1}{2}y_2x_1^T\\gamma-1+y_1y_2)\\alpha_2 \\\\\n",
    "s.t.\\alpha_2\\geq0,y_1(\\eta-\\alpha_2y_2)\\geq0\n",
    "$$\n",
    "\n",
    "\n",
    "这里，$\\eta=-\\sum_{i=3}^N\\alpha_iy_i$， $\\gamma=\\sum_{i=3}^N\\alpha_iy_ix_i$\n",
    "\n",
    "所以该问题无约束的最优解为：\n",
    "\n",
    "$$\n",
    "\\alpha_2^{unc}=-\\frac{-y_2\\eta x_1^Tx_1+y_1\\eta x_1^Tx_2+\\frac{1}{2}y_2x_2^T\\gamma-\\frac{1}{2}y_2x_1^T\\gamma-1+y_1y_2}{(x_1-x_2)^T(x_1-x_2)} \\tag{2}\n",
    "$$\n",
    "接下来，我们对上面的表达式做一些优化，大家注意每次迭代时，$\\gamma,\\eta$都有大量的重复计算（每次仅修改了$\\alpha$的两个变量，剩余部分其实无需重复计算），而且对于$\\alpha_1,\\alpha_2$的更新也没有有效利用它上一阶段的取值（记作$\\alpha_1^{old},\\alpha_2^{old}$）"
   ]
  },
  {
   "cell_type": "markdown",
   "metadata": {},
   "source": []
  },
  {
   "cell_type": "code",
   "execution_count": null,
   "metadata": {},
   "outputs": [],
   "source": []
  },
  {
   "cell_type": "code",
   "execution_count": 1,
   "metadata": {},
   "outputs": [],
   "source": [
    "import numpy as np\n",
    "import matplotlib.pyplot as plt\n",
    "import copy\n",
    "import random\n",
    "import os\n",
    "os.chdir('../')\n",
    "from models import utils\n",
    "%matplotlib inline"
   ]
  },
  {
   "cell_type": "code",
   "execution_count": 2,
   "metadata": {},
   "outputs": [],
   "source": [
    "#定义一个绘制决策边界以及支持向量的函数（并放到utils中）\n",
    "def plot_decision_function(X, y, clf, support_vectors=None):\n",
    "    plot_step = 0.02\n",
    "    x_min, x_max = X[:, 0].min() - 1, X[:, 0].max() + 1\n",
    "    y_min, y_max = X[:, 1].min() - 1, X[:, 1].max() + 1\n",
    "    xx, yy = np.meshgrid(np.arange(x_min, x_max, plot_step),\n",
    "                         np.arange(y_min, y_max, plot_step))\n",
    "\n",
    "    Z = clf.predict(np.c_[xx.ravel(), yy.ravel()])\n",
    "    Z = Z.reshape(xx.shape)\n",
    "    plt.contourf(xx, yy, Z, alpha=0.4)\n",
    "    plt.scatter(X[:, 0], X[:, 1], alpha=0.8, c=y, edgecolor='k')\n",
    "    # 绘制支持向量\n",
    "    if support_vectors is not None:\n",
    "        plt.scatter(X[support_vectors, 0], X[support_vectors, 1], s=80, c='none', alpha=0.7, edgecolor='red')"
   ]
  },
  {
   "cell_type": "code",
   "execution_count": 3,
   "metadata": {},
   "outputs": [],
   "source": [
    "\"\"\"\n",
    "硬间隔支持向量机的smo实现,放到ml_models.svm模块\n",
    "\"\"\"\n",
    "class HardMarginSVM(object):\n",
    "    def __init__(self, epochs=100):\n",
    "        self.w = None\n",
    "        self.b = None\n",
    "        self.alpha = None\n",
    "        self.E = None\n",
    "        self.epochs = epochs\n",
    "        # 记录支持向量\n",
    "        self.support_vectors = None\n",
    "\n",
    "    def init_params(self, X, y):\n",
    "        \"\"\"\n",
    "        :param X: (n_samples,n_features)\n",
    "        :param y: (n_samples,) y_i\\in\\{0,1\\}\n",
    "        :return:\n",
    "        \"\"\"\n",
    "        n_samples, n_features = X.shape\n",
    "        self.w = np.zeros(n_features)\n",
    "        self.b = .0\n",
    "        self.alpha = np.zeros(n_samples)\n",
    "        self.E = np.zeros(n_samples)\n",
    "        # 初始化E\n",
    "        for i in range(0, n_samples):\n",
    "            self.E[i] = np.dot(self.w, X[i, :]) + self.b - y[i]\n",
    "\n",
    "    def _select_j(self, best_i):\n",
    "        \"\"\"\n",
    "        选择j\n",
    "        :param best_i:\n",
    "        :return:\n",
    "        \"\"\"\n",
    "        valid_j_list = [i for i in range(0, len(self.alpha)) if self.alpha[i] > 0 and i != best_i]\n",
    "        best_j = -1\n",
    "        # 优先选择使得|E_i-E_j|最大的j\n",
    "        if len(valid_j_list) > 0:\n",
    "            max_e = 0\n",
    "            for j in valid_j_list:\n",
    "                current_e = np.abs(self.E[best_i] - self.E[j])\n",
    "                if current_e > max_e:\n",
    "                    best_j = j\n",
    "                    max_e = current_e\n",
    "        else:\n",
    "            # 随机选择\n",
    "            l = list(range(len(self.alpha)))\n",
    "            seq = l[: best_i] + l[best_i + 1:]\n",
    "            best_j = random.choice(seq)\n",
    "        return best_j\n",
    "\n",
    "    def _meet_kkt(self, w, b, x_i, y_i, alpha_i):\n",
    "        \"\"\"\n",
    "        判断是否满足KKT条件\n",
    "\n",
    "        :param w:\n",
    "        :param b:\n",
    "        :param x_i:\n",
    "        :param y_i:\n",
    "        :return:\n",
    "        \"\"\"\n",
    "        if alpha_i < 1e-7:\n",
    "            return y_i * (np.dot(w, x_i) + b) >= 1\n",
    "        else:\n",
    "            return abs(y_i * (np.dot(w, x_i) + b) - 1) < 1e-7\n",
    "\n",
    "    def fit(self, X, y2, show_train_process=False):\n",
    "        \"\"\"\n",
    "\n",
    "        :param X:\n",
    "        :param y2:\n",
    "        :param show_train_process: 显示训练过程\n",
    "        :return:\n",
    "        \"\"\"\n",
    "        y = copy.deepcopy(y2)\n",
    "        y[y == 0] = -1\n",
    "        # 初始化参数\n",
    "        self.init_params(X, y)\n",
    "        for _ in range(0, self.epochs):\n",
    "            if_all_match_kkt = True\n",
    "            for i in range(0, len(self.alpha)):\n",
    "                x_i = X[i, :]\n",
    "                y_i = y[i]\n",
    "                alpha_i_old = self.alpha[i]\n",
    "                E_i_old = self.E[i]\n",
    "                # 外层循环：选择违反KKT条件的点i\n",
    "                if not self._meet_kkt(self.w, self.b, x_i, y_i, alpha_i_old):\n",
    "                    if_all_match_kkt = False\n",
    "                    # 内层循环，选择使|Ei-Ej|最大的点j\n",
    "                    best_j = self._select_j(i)\n",
    "\n",
    "                    alpha_j_old = self.alpha[best_j]\n",
    "                    x_j = X[best_j, :]\n",
    "                    y_j = y[best_j]\n",
    "                    E_j_old = self.E[best_j]\n",
    "\n",
    "                    # 进行更新\n",
    "                    # 1.首先获取无裁剪的最优alpha_2\n",
    "                    eta = np.dot(x_i - x_j, x_i - x_j)\n",
    "                    # 如果x_i和x_j很接近，则跳过\n",
    "                    if eta < 1e-3:\n",
    "                        continue\n",
    "                    alpha_j_unc = alpha_j_old + y_j * (E_i_old - E_j_old) / eta\n",
    "                    # 2.裁剪并得到new alpha_2\n",
    "                    if y_i == y_j:\n",
    "                        if alpha_j_unc < 0:\n",
    "                            alpha_j_new = 0\n",
    "                        elif 0 <= alpha_j_unc <= alpha_i_old + alpha_j_old:\n",
    "                            alpha_j_new = alpha_j_unc\n",
    "                        else:\n",
    "                            alpha_j_new = alpha_i_old + alpha_j_old\n",
    "                    else:\n",
    "                        if alpha_j_unc < max(0, alpha_j_old - alpha_i_old):\n",
    "                            alpha_j_new = max(0, alpha_j_old - alpha_i_old)\n",
    "                        else:\n",
    "                            alpha_j_new = alpha_j_unc\n",
    "\n",
    "                    # 如果变化不够大则跳过\n",
    "                    if np.abs(alpha_j_new - alpha_j_old) < 1e-5:\n",
    "                        continue\n",
    "                    # 3.得到alpha_1_new\n",
    "                    alpha_i_new = alpha_i_old + y_i * y_j * (alpha_j_old - alpha_j_new)\n",
    "                    # 4.更新w\n",
    "                    self.w = self.w + (alpha_i_new - alpha_i_old) * y_i * x_i + (alpha_j_new - alpha_j_old) * y_j * x_j\n",
    "                    # 5.更新alpha_1,alpha_2\n",
    "                    self.alpha[i] = alpha_i_new\n",
    "                    self.alpha[best_j] = alpha_j_new\n",
    "                    # 6.更新b\n",
    "                    b_i_new = y_i - np.dot(self.w, x_i)\n",
    "                    b_j_new = y_j - np.dot(self.w, x_j)\n",
    "                    if alpha_i_new > 0:\n",
    "                        self.b = b_i_new\n",
    "                    elif alpha_j_new > 0:\n",
    "                        self.b = b_j_new\n",
    "                    else:\n",
    "                        self.b = (b_i_new + b_j_new) / 2.0\n",
    "                    # 7.更新E\n",
    "                    for k in range(0, len(self.E)):\n",
    "                        self.E[k] = np.dot(self.w, X[k, :]) + self.b - y[k]\n",
    "                    # 显示训练过程\n",
    "                    if show_train_process is True:\n",
    "                        utils.plot_decision_function(X, y2, self, [i, best_j])\n",
    "                        utils.plt.pause(0.1)\n",
    "                        utils.plt.clf()\n",
    "\n",
    "            # 如果所有的点都满足KKT条件，则中止\n",
    "            if if_all_match_kkt is True:\n",
    "                break\n",
    "        # 计算支持向量\n",
    "        self.support_vectors = np.where(self.alpha > 1e-3)[0]\n",
    "        # 利用所有的支持向量，更新b\n",
    "        self.b = np.mean([y[s] - np.dot(self.w, X[s, :]) for s in self.support_vectors.tolist()])\n",
    "        # 显示最终结果\n",
    "        if show_train_process is True:\n",
    "            utils.plot_decision_function(X, y2, self, self.support_vectors)\n",
    "            utils.plt.show()\n",
    "\n",
    "    def get_params(self):\n",
    "        \"\"\"\n",
    "        输出原始的系数\n",
    "        :return: w\n",
    "        \"\"\"\n",
    "\n",
    "        return self.w, self.b\n",
    "\n",
    "    def predict_proba(self, x):\n",
    "        \"\"\"\n",
    "        :param x:ndarray格式数据: m x n\n",
    "        :return: m x 1\n",
    "        \"\"\"\n",
    "        return utils.sigmoid(x.dot(self.w) + self.b)\n",
    "\n",
    "    def predict(self, x):\n",
    "        \"\"\"\n",
    "        :param x:ndarray格式数据: m x n\n",
    "        :return: m x 1\n",
    "        \"\"\"\n",
    "        proba = self.predict_proba(x)\n",
    "        return (proba >= 0.5).astype(int)"
   ]
  },
  {
   "cell_type": "markdown",
   "metadata": {},
   "source": [
    "## 验证"
   ]
  },
  {
   "cell_type": "code",
   "execution_count": 4,
   "metadata": {},
   "outputs": [],
   "source": [
    "from sklearn.datasets import make_classification\n",
    "# 生成分类数据\n",
    "data, target = make_classification(n_samples=100, n_features=2, n_classes=2, n_informative=1, n_redundant=0,\n",
    "                                   n_repeated=0, n_clusters_per_class=1, class_sep=2.0)"
   ]
  },
  {
   "cell_type": "code",
   "execution_count": 5,
   "metadata": {},
   "outputs": [
    {
     "data": {
      "text/plain": [
       "<matplotlib.collections.PathCollection at 0x1cced6d8648>"
      ]
     },
     "execution_count": 5,
     "metadata": {},
     "output_type": "execute_result"
    },
    {
     "data": {
      "image/png": "[encoded data removed]",
      "text/plain": [
       "<Figure size 432x288 with 1 Axes>"
      ]
     },
     "metadata": {
      "needs_background": "light"
     },
     "output_type": "display_data"
    }
   ],
   "source": [
    "plt.scatter(data[:,0],data[:,1],c=target)"
   ]
  },
  {
   "cell_type": "code",
   "execution_count": 6,
   "metadata": {},
   "outputs": [],
   "source": [
    "#训练\n",
    "svm = HardMarginSVM()\n",
    "svm.fit(data, target)"
   ]
  },
  {
   "cell_type": "code",
   "execution_count": 7,
   "metadata": {},
   "outputs": [
    {
     "data": {
      "image/png": "[encoded data removed]",
      "text/plain": [
       "<Figure size 432x288 with 1 Axes>"
      ]
     },
     "metadata": {
      "needs_background": "light"
     },
     "output_type": "display_data"
    }
   ],
   "source": [
    "plot_decision_function(data, target, svm, svm.support_vectors)"
   ]
  },
  {
   "cell_type": "markdown",
   "metadata": {},
   "source": [
    "## 问题讨论\n",
    "1.非线可分的情况如何处理？\n",
    "大家可以将上面的代码多运行几次，可以发现如果有异常点等情况出现时（即线性不可分时），模型训练的结果会很难看，后面小节将会对这种情况做处理，教模型如何去“容忍”这些不好看的点，或者巧妙地通过坐标映射的方式将低维数据映射到高维空间进而可以线性可分\n",
    "\n",
    "2.原问题本就是凸优化问题，为何还要转对偶问题求解？\n",
    "个人觉得更多是为了引入核技巧，因为对偶问题进行计算时，有关于两个点内积的计算：$x_i^Tx_j$，这可以方便的用核函数替代$\\kappa(x_i,x_j)$，便于处理非线性可分的情况"
   ]
  },
  {
   "cell_type": "code",
   "execution_count": null,
   "metadata": {},
   "outputs": [],
   "source": []
  }
 ],
 "metadata": {
  "kernelspec": {
   "display_name": "Python 3",
   "language": "python",
   "name": "python3"
  },
  "language_info": {
   "codemirror_mode": {
    "name": "ipython",
    "version": 3
   },
   "file_extension": ".py",
   "mimetype": "text/x-python",
   "name": "python",
   "nbconvert_exporter": "python",
   "pygments_lexer": "ipython3",
   "version": "3.7.4"
  }
 },
 "nbformat": 4,
 "nbformat_minor": 4
}
